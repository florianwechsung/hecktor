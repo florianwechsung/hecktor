{
 "cells": [
  {
   "cell_type": "code",
   "execution_count": 3,
   "metadata": {},
   "outputs": [],
   "source": [
    "from pathlib import Path\n",
    "\n",
    "import numpy as np\n",
    "import pandas as pd\n",
    "import SimpleITK as sitk\n",
    "\n",
    "from src.evaluation.scores import dice, hausdorff_distance"
   ]
  },
  {
   "cell_type": "code",
   "execution_count": 4,
   "metadata": {},
   "outputs": [],
   "source": [
    "prediction_folder = '../data/segmentation_output_renamed'\n",
    "groundtruth_folder = '../data/hecktor_nii/'\n",
    "bb_filepath = '../data/bbox.csv'"
   ]
  },
  {
   "cell_type": "code",
   "execution_count": 5,
   "metadata": {},
   "outputs": [],
   "source": [
    "# List of the files in the validation\n",
    "prediction_files = [f for f in Path(prediction_folder).rglob('*.nii.gz')]\n",
    "\n",
    "# The list is sorted, so it will match the list of ground truth files\n",
    "prediction_files.sort(key=lambda x: x.name.split('_')[0])\n",
    "\n",
    "# List of the patient_id in the validation\n",
    "patient_name_predictions = [f.name.split('.')[0][:7] for f in prediction_files]\n"
   ]
  },
  {
   "cell_type": "code",
   "execution_count": 6,
   "metadata": {},
   "outputs": [],
   "source": [
    "# List of the ground truth files\n",
    "groundtruth_files = [\n",
    "    f for f in Path(groundtruth_folder).rglob('*gtvt.nii.gz') if f.name.split('_')[0] in patient_name_predictions\n",
    "]"
   ]
  },
  {
   "cell_type": "code",
   "execution_count": 7,
   "metadata": {
    "scrolled": true
   },
   "outputs": [],
   "source": [
    "# The bounding boxes will be used to compute the Dice score within.\n",
    "bb_df = pd.read_csv(bb_filepath).set_index('PatientID')"
   ]
  },
  {
   "cell_type": "code",
   "execution_count": 8,
   "metadata": {
    "tags": []
   },
   "outputs": [
    {
     "name": "stdout",
     "output_type": "stream",
     "text": [
      "Evaluating patient CHGJ007\n",
      "Evaluating patient CHGJ008\n",
      "Evaluating patient CHGJ010\n",
      "Evaluating patient CHGJ013\n",
      "Evaluating patient CHGJ015\n",
      "Evaluating patient CHGJ016\n",
      "Evaluating patient CHGJ017\n",
      "Evaluating patient CHGJ018\n",
      "Evaluating patient CHGJ025\n",
      "Evaluating patient CHGJ026\n"
     ]
    }
   ],
   "source": [
    "# DataFrame to store the results\n",
    "results_df = pd.DataFrame(columns=['PatientID', 'Dice Score'])\n",
    "\n",
    "resampler = sitk.ResampleImageFilter()\n",
    "resampler.SetInterpolator(sitk.sitkNearestNeighbor)\n",
    "\n",
    "for f in prediction_files:\n",
    "    patient_name = f.name.split('.')[0][:7]\n",
    "    gt_file = [k for k in groundtruth_files if k.name[:7] == patient_name][0]\n",
    "\n",
    "    print('Evaluating patient {}'.format(patient_name))\n",
    "\n",
    "    sitk_pred = sitk.ReadImage(str(f.resolve()))\n",
    "    sitk_gt = sitk.ReadImage(str(gt_file.resolve()))\n",
    "    resampling_spacing = np.array(sitk_gt.GetSpacing())\n",
    "\n",
    "    bb = np.array([\n",
    "        bb_df.loc[patient_name, 'x1', ], bb_df.loc[patient_name, 'y1', ],\n",
    "        bb_df.loc[patient_name, 'z1', ], bb_df.loc[patient_name, 'x2', ],\n",
    "        bb_df.loc[patient_name, 'y2', ], bb_df.loc[patient_name, 'z2', ]\n",
    "    ])\n",
    "\n",
    "    image_size = np.round((bb[3:] - bb[:3]) / resampling_spacing).astype(int)\n",
    "    resampler.SetOutputOrigin(bb[:3])\n",
    "    resampler.SetSize([int(k) for k in image_size])\n",
    "    resampler.SetReferenceImage(sitk_gt)\n",
    "\n",
    "    sitk_gt = resampler.Execute(sitk_gt)\n",
    "    sitk_pred = resampler.Execute(sitk_pred)\n",
    "\n",
    "    # Store the results\n",
    "    np_gt = sitk.GetArrayFromImage(sitk_gt)\n",
    "    np_pred = sitk.GetArrayFromImage(sitk_pred)\n",
    "    results_df = results_df.append(\n",
    "        {\n",
    "            'PatientID': patient_name,\n",
    "            'Dice Score': dice(np_gt, np_pred),\n",
    "            'Hausdorff Distance': hausdorff_distance(np_gt, np_pred),\n",
    "        },\n",
    "        ignore_index=True)\n"
   ]
  },
  {
   "cell_type": "code",
   "execution_count": 11,
   "metadata": {},
   "outputs": [
    {
     "data": {
      "text/plain": [
       "Dice Score            1.0\n",
       "Hausdorff Distance    0.0\n",
       "dtype: float64"
      ]
     },
     "execution_count": 11,
     "metadata": {},
     "output_type": "execute_result"
    }
   ],
   "source": [
    "# print average results\n",
    "results_df.mean()"
   ]
  },
  {
   "cell_type": "code",
   "execution_count": null,
   "metadata": {},
   "outputs": [],
   "source": []
  }
 ],
 "metadata": {
  "interpreter": {
   "hash": "5d0711d90a4399502f1ba40f76c094e33982b9e476f3bb6cf1b54691bc399e28"
  },
  "kernelspec": {
   "display_name": "Python 3.6.9 64-bit ('env': virtualenv)",
   "name": "python3"
  },
  "language_info": {
   "codemirror_mode": {
    "name": "ipython",
    "version": 3
   },
   "file_extension": ".py",
   "mimetype": "text/x-python",
   "name": "python",
   "nbconvert_exporter": "python",
   "pygments_lexer": "ipython3",
   "version": "3.6.9"
  }
 },
 "nbformat": 4,
 "nbformat_minor": 2
}