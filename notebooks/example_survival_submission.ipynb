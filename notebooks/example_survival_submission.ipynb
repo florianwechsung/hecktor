{
 "cells": [
  {
   "cell_type": "code",
   "execution_count": null,
   "source": [
    "from pathlib import Path\n",
    "\n",
    "import pandas as pd\n",
    "import numpy as np"
   ],
   "outputs": [],
   "metadata": {}
  },
  {
   "cell_type": "code",
   "execution_count": null,
   "source": [
    "clinical_info_df = pd.read_csv(\"../data/hecktor2021_test/hecktor2021_patient_info_testing.csv\")\n",
    "image_folder = Path(\"../data/hecktor2021_test/hecktor_nii\").resolve()"
   ],
   "outputs": [],
   "metadata": {}
  },
  {
   "cell_type": "code",
   "execution_count": null,
   "source": [
    "def dummy_model():\n",
    "    return np.random.uniform()"
   ],
   "outputs": [],
   "metadata": {}
  },
  {
   "cell_type": "code",
   "execution_count": null,
   "source": [
    "# list only patients that have an image\n",
    "patient_list = [f.name[:7] for f in image_folder.rglob(\"*_ct.nii.gz\")]"
   ],
   "outputs": [],
   "metadata": {}
  },
  {
   "cell_type": "code",
   "execution_count": null,
   "source": [
    "# Make your predictions\n",
    "results_df = pd.DataFrame()\n",
    "for p_id in patient_list:\n",
    "    # ... Load image\n",
    "    # ... Extract features\n",
    "    # ... Load clinical info e.g. clinical_info_df.loc[p_id, :]\n",
    "\n",
    "    # Compute prediction\n",
    "    pred = dummy_model()\n",
    "\n",
    "    # IMPORTANT the name of the columns must be 'PatientID'\n",
    "    # and 'Prediction'\n",
    "    results_df = results_df.append(\n",
    "        {\n",
    "            \"PatientID\": p_id,\n",
    "            \"Prediction\": pred\n",
    "        },\n",
    "        ignore_index=True,\n",
    "    )\n",
    "\n",
    "# OPTIONNAL remove unnecessary index\n",
    "results_df = results_df.set_index(\"PatientID\")"
   ],
   "outputs": [],
   "metadata": {}
  },
  {
   "cell_type": "code",
   "execution_count": null,
   "source": [
    "# save predictions\n",
    "results_df.to_csv(\"../data/dummy_survival.csv\")"
   ],
   "outputs": [],
   "metadata": {}
  }
 ],
 "metadata": {
  "orig_nbformat": 4,
  "language_info": {
   "name": "python",
   "version": "3.6.9",
   "mimetype": "text/x-python",
   "codemirror_mode": {
    "name": "ipython",
    "version": 3
   },
   "pygments_lexer": "ipython3",
   "nbconvert_exporter": "python",
   "file_extension": ".py"
  },
  "kernelspec": {
   "name": "python3",
   "display_name": "Python 3.6.9 64-bit ('env': virtualenv)"
  },
  "interpreter": {
   "hash": "5d0711d90a4399502f1ba40f76c094e33982b9e476f3bb6cf1b54691bc399e28"
  }
 },
 "nbformat": 4,
 "nbformat_minor": 2
}