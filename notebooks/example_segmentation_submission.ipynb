{
 "cells": [
  {
   "cell_type": "markdown",
   "source": [
    "This notebook present a fake example of a segmentation pipeline to show what we expect as file for the submission.\n",
    "We assume that the model is trained on 3D images resampled at 1 $mm^3$ and that the input shape of the model is \n",
    "[batch_size, x_dim, y_dim, z_dim, channel]. The channel are the CT and PT images. The output image is a binary segmentation\n",
    "and its shape is [batch_size, x_dim, y_dim, z_dim, 1]."
   ],
   "metadata": {}
  },
  {
   "cell_type": "code",
   "execution_count": 1,
   "source": [
    "from pathlib import Path\n",
    "\n",
    "import numpy as np\n",
    "import pandas as pd\n",
    "import SimpleITK as sitk\n",
    "from tqdm import tqdm"
   ],
   "outputs": [],
   "metadata": {}
  },
  {
   "cell_type": "code",
   "execution_count": 2,
   "source": [
    "test_folder = Path(\"../data/hecktor2021_test/hecktor_nii\").resolve()\n",
    "results_folder = Path(\"../data/dummy_segmentation_results/\").resolve()\n",
    "results_folder.mkdir(exist_ok=True)\n",
    "\n",
    "bbox_df = pd.read_csv(\"../data/hecktor2021_test/hecktor2021_bbox_testing.csv\").set_index(\"PatientID\")"
   ],
   "outputs": [],
   "metadata": {}
  },
  {
   "cell_type": "code",
   "execution_count": 3,
   "source": [
    "def dummy_model(x):\n",
    "    return np.random.uniform(size=x.shape[:4] + (1, )) "
   ],
   "outputs": [],
   "metadata": {}
  },
  {
   "cell_type": "code",
   "execution_count": 4,
   "source": [
    "patient_list = [f.name[:7] for f in test_folder.rglob(\"*_ct.nii.gz\")]"
   ],
   "outputs": [],
   "metadata": {}
  },
  {
   "cell_type": "code",
   "execution_count": 5,
   "source": [
    "# Instantiating the resampler\n",
    "resampling_spacing = np.array([1.0, 1.0, 1.0])\n",
    "pre_resampler = sitk.ResampleImageFilter()\n",
    "pre_resampler.SetInterpolator(sitk.sitkBSpline)\n",
    "pre_resampler.SetOutputSpacing(resampling_spacing)\n",
    "\n",
    "post_resampler = sitk.ResampleImageFilter()\n",
    "post_resampler.SetInterpolator(sitk.sitkNearestNeighbor)"
   ],
   "outputs": [],
   "metadata": {}
  },
  {
   "cell_type": "code",
   "execution_count": 10,
   "source": [
    "for p_id in tqdm(patient_list[:1]):\n",
    "    # loading the images and storing the ct spacing\n",
    "    image_ct = sitk.ReadImage(str(test_folder / (p_id + \"_ct.nii.gz\")))\n",
    "    image_pt = sitk.ReadImage(str(test_folder / (p_id + \"_pt.nii.gz\")))\n",
    "    spacing_ct = image_ct.GetSpacing()\n",
    "\n",
    "    # getting the bounding box\n",
    "    bb = np.squeeze(\n",
    "        np.array([\n",
    "            bbox_df.loc[p_id, [\"x1\", \"y1\", \"z1\", \"x2\", \"y2\", \"z2\"]],\n",
    "        ]))\n",
    "\n",
    "    # resampling the images\n",
    "    resampled_size = np.round(\n",
    "        (bb[3:] - bb[:3]) / resampling_spacing).astype(int)\n",
    "    pre_resampler.SetOutputOrigin(bb[:3])\n",
    "    pre_resampler.SetSize([int(k)\n",
    "                           for k in resampled_size])  # sitk requires this\n",
    "    image_ct = pre_resampler.Execute(image_ct)\n",
    "    image_pt = pre_resampler.Execute(image_pt)\n",
    "\n",
    "    # sitk to numpy, sitk stores images with [dim_z, dim_y, dim_x]\n",
    "    array_ct = np.transpose(sitk.GetArrayFromImage(image_ct), (2, 1, 0))\n",
    "    array_pt = np.transpose(sitk.GetArrayFromImage(image_pt), (2, 1, 0))\n",
    "\n",
    "    # ... apply your preprocessing here\n",
    "\n",
    "    x = np.stack([array_ct, array_pt], axis=-1)\n",
    "    x = x[np.newaxis, ...]  # adding batch dimension\n",
    "    segmentation = dummy_model(x)[0, :, :, :, 0]\n",
    "\n",
    "    # do not forget to threshold your output\n",
    "    segmentation = (segmentation < 0.5).astype(np.uint8)\n",
    "\n",
    "    # numpy to sitk\n",
    "    image_segmentation = sitk.GetImageFromArray(\n",
    "        np.transpose(segmentation, (2, 1, 0)))\n",
    "\n",
    "    image_segmentation.SetOrigin(bb[:3])\n",
    "    image_segmentation.SetSpacing(resampling_spacing)\n",
    "\n",
    "    # This step is optional we do exactly this with nearest neighbor resampler,\n",
    "    # but if you want to use another resampling method\n",
    "    # it could lead to better results\n",
    "    final_size = np.round((bb[3:] - bb[:3]) / spacing_ct).astype(int)\n",
    "    post_resampler.SetOutputSpacing(spacing_ct)\n",
    "    post_resampler.SetOutputOrigin(bb[:3])\n",
    "    post_resampler.SetSize([int(k) for k in final_size])  # sitk requires this\n",
    "\n",
    "    image_segmentation = post_resampler.Execute(image_segmentation)\n",
    "\n",
    "    # Saving the prediction\n",
    "    sitk.WriteImage(\n",
    "        image_segmentation,\n",
    "        str(results_folder / (p_id + \".nii.gz\")),\n",
    "    )\n"
   ],
   "outputs": [
    {
     "output_type": "stream",
     "name": "stderr",
     "text": [
      "  0%|          | 0/1 [00:00<?, ?it/s]\n"
     ]
    },
    {
     "output_type": "error",
     "ename": "ValueError",
     "evalue": "operands could not be broadcast together with shapes (0,6) (3,) ",
     "traceback": [
      "\u001b[0;31m---------------------------------------------------------------------------\u001b[0m",
      "\u001b[0;31mValueError\u001b[0m                                Traceback (most recent call last)",
      "\u001b[0;32m<ipython-input-10-4d72fa2abcb3>\u001b[0m in \u001b[0;36m<module>\u001b[0;34m\u001b[0m\n\u001b[1;32m     12\u001b[0m     \u001b[0;31m# resampling the images\u001b[0m\u001b[0;34m\u001b[0m\u001b[0;34m\u001b[0m\u001b[0;34m\u001b[0m\u001b[0m\n\u001b[1;32m     13\u001b[0m     resampled_size = np.round(\n\u001b[0;32m---> 14\u001b[0;31m         (bb[3:] - bb[:3]) / resampling_spacing).astype(int)\n\u001b[0m\u001b[1;32m     15\u001b[0m     \u001b[0mpre_resampler\u001b[0m\u001b[0;34m.\u001b[0m\u001b[0mSetOutputOrigin\u001b[0m\u001b[0;34m(\u001b[0m\u001b[0mbb\u001b[0m\u001b[0;34m[\u001b[0m\u001b[0;34m:\u001b[0m\u001b[0;36m3\u001b[0m\u001b[0;34m]\u001b[0m\u001b[0;34m)\u001b[0m\u001b[0;34m\u001b[0m\u001b[0;34m\u001b[0m\u001b[0m\n\u001b[1;32m     16\u001b[0m     pre_resampler.SetSize([int(k)\n",
      "\u001b[0;31mValueError\u001b[0m: operands could not be broadcast together with shapes (0,6) (3,) "
     ]
    }
   ],
   "metadata": {}
  },
  {
   "cell_type": "code",
   "execution_count": null,
   "source": [
    "segmentation.shape"
   ],
   "outputs": [],
   "metadata": {}
  },
  {
   "cell_type": "code",
   "execution_count": 8,
   "source": [
    "p_id = patient_list[0]\n",
    "bb = np.array([\n",
    "    bbox_df.loc[p_id, [\"x1\", \"y1\", \"z1\", \"x2\", \"y2\", \"z2\"]],\n",
    "])\n"
   ],
   "outputs": [],
   "metadata": {}
  },
  {
   "cell_type": "code",
   "execution_count": 12,
   "source": [
    "bb.shape"
   ],
   "outputs": [
    {
     "output_type": "execute_result",
     "data": {
      "text/plain": [
       "(1, 6)"
      ]
     },
     "metadata": {},
     "execution_count": 12
    }
   ],
   "metadata": {}
  },
  {
   "cell_type": "code",
   "execution_count": null,
   "source": [],
   "outputs": [],
   "metadata": {}
  }
 ],
 "metadata": {
  "orig_nbformat": 4,
  "language_info": {
   "name": "python",
   "version": "3.6.9",
   "mimetype": "text/x-python",
   "codemirror_mode": {
    "name": "ipython",
    "version": 3
   },
   "pygments_lexer": "ipython3",
   "nbconvert_exporter": "python",
   "file_extension": ".py"
  },
  "kernelspec": {
   "name": "python3",
   "display_name": "Python 3.6.9 64-bit ('env': virtualenv)"
  },
  "interpreter": {
   "hash": "5d0711d90a4399502f1ba40f76c094e33982b9e476f3bb6cf1b54691bc399e28"
  }
 },
 "nbformat": 4,
 "nbformat_minor": 2
}